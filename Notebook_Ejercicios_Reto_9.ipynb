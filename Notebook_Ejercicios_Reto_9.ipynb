{
 "cells": [
  {
   "cell_type": "markdown",
   "metadata": {},
   "source": [
    "1. De los retos anteriores selecione 3 funciones y escribalas en forma de lambdas."
   ]
  },
  {
   "cell_type": "code",
   "execution_count": null,
   "metadata": {},
   "outputs": [],
   "source": [
    "# primera funcion\n",
    "def rango_de_error(numero_real,aproximacion):\n",
    "    # funcion normal\n",
    "    aproximacion = int\n",
    "    numero_real = int\n",
    "    error_relativo = (numero_real - aproximacion) / numero_real\n",
    "    porcentaje_error = abs(error_relativo) * 100\n",
    "    return porcentaje_error\n",
    "\n",
    "# version lambda de la funcion rango_de_error\n",
    "rango_de_error_lambda = lambda numero_real,aproximacion : round(abs((numero_real - aproximacion)/numero_real)*100,5)\n",
    "\n",
    "# segunda funcion\n",
    "def cuadrados(numero : int) -> int:\n",
    "    # funcion normal\n",
    "    return numero ** 2\n",
    "\n",
    "# version lamda del a funcion cuadrados\n",
    "cuadrados_lambda = lambda numero : numero**2\n",
    "\n",
    "# tercera funcion\n",
    "\n",
    "def calcular_volumen_esfera(radio:float, PI = 3.14159)->float:\n",
    "    # funcion normal\n",
    "    return (4/3) * PI * radio ** 3\n",
    "\n",
    "# version lambda de la funcion calcular_volumen_esfera\n",
    "calcular_volumen_esfera_lambda = lambda radio , PI = 3.14159: (4/3) * PI * radio**3"
   ]
  },
  {
   "cell_type": "markdown",
   "metadata": {},
   "source": [
    "2. De los retos anteriores selecione 3 funciones y escribalas con argumentos no definidos (*args)."
   ]
  },
  {
   "cell_type": "code",
   "execution_count": null,
   "metadata": {},
   "outputs": [],
   "source": [
    "def suma_de_lista(*args)->float:\n",
    "    # utilizando el *args para meter una lista de numeros y sumarlos\n",
    "    suma_lista = 0\n",
    "    for n in args:\n",
    "        suma_lista += n\n",
    "    return suma_lista \n",
    "def elevar_un_numero_al_cuadrado(*args)->float:\n",
    "    # utilizando el *args para meter una lista de numeros y elevarlos al cuadrado\n",
    "    for n in args:\n",
    "        print(f\"El numero {n} elevado al cuadrado es: {n**2}\")\n",
    "def multilicar_nuemeros(*args)->float:\n",
    "    # utilizando el *args para meter una lista de numeros y multiplicarlos\n",
    "    multiplicacion_lista = 1\n",
    "    for n in args:\n",
    "        multiplicacion_lista *= n\n",
    "    return multiplicacion_lista\n"
   ]
  },
  {
   "cell_type": "markdown",
   "metadata": {},
   "source": [
    "3. Escriba una función recursiva para calcular la operación de la potencia."
   ]
  },
  {
   "cell_type": "code",
   "execution_count": null,
   "metadata": {},
   "outputs": [],
   "source": [
    "def potencia_recursiva(base, exponente):\n",
    "    # si el exponente es 0 el resultado es 1\n",
    "    if exponente == 0:\n",
    "        return 1\n",
    "    else:\n",
    "        # se multiplica la base por la funcion potencia_recursiva con la misma base y exponente - 1\n",
    "        return base * potencia_recursiva(base, exponente - 1)\n",
    "if __name__ == '__main__':\n",
    "    # se pide al usuario la base y el exponente y se imprime el resultado de la potencia\n",
    "    base = int(input(\"Introduce la base: \"))\n",
    "    exponente = int(input(\"Introduce el exponente: \"))\n",
    "    print(f\"el resultado de la potencia utilizando la funcion recursiva es {potencia_recursiva(base, exponente)}\")"
   ]
  },
  {
   "cell_type": "markdown",
   "metadata": {},
   "source": [
    "4. Realice pruebas para calcular fibonacci con iteración o con recursión. Determine desde que número de la serie la diferencia de tiempo se vuelve significativa."
   ]
  },
  {
   "cell_type": "code",
   "execution_count": null,
   "metadata": {},
   "outputs": [],
   "source": [
    "import time\n",
    "def funcion_recursiva_fibonacci(Termino = \"\")->float:\n",
    "    # funcion que calcula la serie de fibonacci de manera recursiva \n",
    "    # uso esta debido a que esta empieza a ser lenta mas rapido debido a la misma recursividad\n",
    "    # la recursividad esta mal optimizada en largas series de calculos segun un post de stackoverflow\n",
    "    if Termino <= 1:\n",
    "        return Termino\n",
    "    else:\n",
    "        return funcion_recursiva_fibonacci(Termino - 1) + funcion_recursiva_fibonacci(Termino - 2)\n",
    "def fibonacci_tiempo()->float:\n",
    "    # calcula el tiempo que pasa entre cada termino de la serie de fibonacci\n",
    "    bandera_10 = False\n",
    "    Termino = 1\n",
    "    while True:\n",
    "        start_time = time.time() \n",
    "        funcion_recursiva_fibonacci(Termino) # se llama a la funcion que calcula la serie de fibonacci\n",
    "        end_time = time.time() \n",
    "        timer = end_time - start_time\n",
    "        Termino += 1\n",
    "        print(f\"El tiempo entre el termino {Termino - 1} y el {Termino} de la serie de fibonacci es: {timer} \")\n",
    "        # la condicion de parada del while si el tiempo es mayor a 5 segundos la bandera se activa y se detiene el bucle\n",
    "        if timer >= 5 and bandera_10 == False:\n",
    "            bandera_10 = True\n",
    "            break\n",
    "if __name__ == \"__main__\":\n",
    "    # se llama a la funcion fibonacci_tiempo y se imprime el resultado\n",
    "    print(\"inicio el programa\")\n",
    "    fibonacci_tiempo() # se llama a la funcion que calcula el tiempo entre cada termino de la serie de fibonacci\n",
    "    \"\"\" conclusiones : en el termino 17 y 18 de la serie de fibonacci el tiempo \n",
    "    de ejecucion deja de se 0.0 y apartir de la serie 33 y 34 el timer es de 1 segundo\n",
    "        desde ahi el aumento entre termino y termino empieza a ser significativo\"\"\""
   ]
  }
 ],
 "metadata": {
  "language_info": {
   "name": "python"
  }
 },
 "nbformat": 4,
 "nbformat_minor": 2
}
